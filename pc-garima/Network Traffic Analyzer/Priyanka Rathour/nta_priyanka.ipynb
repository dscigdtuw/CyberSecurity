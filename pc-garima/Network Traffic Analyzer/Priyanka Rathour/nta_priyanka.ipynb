{
  "nbformat": 4,
  "nbformat_minor": 0,
  "metadata": {
    "colab": {
      "name": "nta_priyanka.ipynb",
      "provenance": []
    },
    "kernelspec": {
      "name": "python3",
      "display_name": "Python 3"
    },
    "language_info": {
      "name": "python"
    }
  },
  "cells": [
    {
      "cell_type": "code",
      "metadata": {
        "colab": {
          "base_uri": "https://localhost:8080/"
        },
        "id": "LurBLaM22I6Q",
        "outputId": "936ce37a-ed85-4823-f1dd-cd345c29c264"
      },
      "source": [
        "import socket\n",
        "import ssl\n",
        "from datetime import datetime\n",
        "import pickle\n",
        "\n",
        "\n",
        "class Server():\n",
        "    def __init__(self, name, port, connection, priority):\n",
        "        self.name = name\n",
        "        self.port = port\n",
        "        self.connection = connection.lower()\n",
        "        self.priority = priority.lower()\n",
        "\n",
        "        self.history = []\n",
        "        self.alert = False\n",
        "\n",
        "    def check_connection(self):\n",
        "        msg = \"\"\n",
        "        success = False\n",
        "        now = datetime.now()\n",
        "\n",
        "        try:\n",
        "            if self.connection == \"plain\":\n",
        "                socket.create_connection((self.name, self.port), timeout=10)\n",
        "                msg = f\"{self.name} is up. On port {self.port} with {self.connection}\"\n",
        "                success = True\n",
        "                self.alert = False\n",
        "            elif self.connection == \"ssl\":\n",
        "                ssl.wrap_socket(socket.create_connection((self.name, self.port), timeout=10))\n",
        "                msg = f\"{self.name} is up. On port {self.port} with {self.connection}\"\n",
        "                success = True\n",
        "                self.alert = False\n",
        "            else:\n",
        "                if self.ping():\n",
        "                    msg = f\"{self.name} is up. On port {self.port} with {self.connection}\"\n",
        "                    success = True\n",
        "                    self.alert = False\n",
        "        except socket.timeout:\n",
        "            msg = f\"server: {self.name} timeout. On port {self.port}\"\n",
        "        except (ConnectionRefusedError, ConnectionResetError) as e:\n",
        "            msg = f\"server: {self.name} {e}\"\n",
        "        except Exception as e:\n",
        "            msg = f\"No Clue??: {e}\"\n",
        "\n",
        "        \n",
        "        if success == False and self.alert == False:\n",
        "             #Send Alert\n",
        "             self.alert = True\n",
        "\n",
        "        self.create_history(msg,success,now)\n",
        "\n",
        "    def create_history(self, msg, success, now):\n",
        "        history_max = 100\n",
        "        self.history.append((msg,success,now))\n",
        "\n",
        "        while len(self.history) > history_max:\n",
        "            self.history.pop(0)\n",
        "\n",
        "    def ping(self):\n",
        "        try:\n",
        "            output = subprocess.check_output(\"ping -{} 1 {}\".format('n' if platform.system().lower(\n",
        "            ) == \"windows\" else 'c', self.name ), shell=True, universal_newlines=True)\n",
        "            if 'unreachable' in output:\n",
        "                return False\n",
        "            else:\n",
        "                return True\n",
        "        except Exception:\n",
        "                return False\n",
        "\n",
        "\n",
        "if __name__ == \"__main__\":\n",
        "    try:\n",
        "        servers = pickle.load(open(\"servers.pickle\", \"rb\"))\n",
        "    except:\n",
        "        servers = [ \n",
        "            Server(\"github.com\", 80, \"plain\", \"high\"),\n",
        "            Server(\"instagram.com\", 80, \"plain\", \"high\"),\n",
        "            Server(\"www.education.com\", 465, \"ping\", \"high\"),\n",
        "            Server(\"www.myntra.com\", 80, \"ping\", \"high\"),\n",
        "            Server(\"www.amazon.in\", 80, \"plain\", \"high\")\n",
        "        ]\n",
        "\n",
        "    for server in servers:\n",
        "        server.check_connection()\n",
        "        print(len(server.history))\n",
        "        print(server.history[-1])\n",
        "\n",
        "    pickle.dump(servers, open(\"servers.pickle\", \"wb\"))"
      ],
      "execution_count": 3,
      "outputs": [
        {
          "output_type": "stream",
          "text": [
            "3\n",
            "('github.com is up. On port 80 with plain', True, datetime.datetime(2021, 6, 20, 10, 34, 41, 699945))\n",
            "3\n",
            "('instagram.com is up. On port 80 with plain', True, datetime.datetime(2021, 6, 20, 10, 34, 41, 743311))\n",
            "3\n",
            "('No Clue??: [Errno 99] Cannot assign requested address', False, datetime.datetime(2021, 6, 20, 10, 34, 41, 831165))\n",
            "3\n",
            "('', False, datetime.datetime(2021, 6, 20, 10, 34, 51, 858416))\n",
            "3\n",
            "('www.amazon.in is up. On port 80 with plain', True, datetime.datetime(2021, 6, 20, 10, 34, 51, 858465))\n"
          ],
          "name": "stdout"
        }
      ]
    },
    {
      "cell_type": "code",
      "metadata": {
        "id": "TZpbgC5X2LAO"
      },
      "source": [
        ""
      ],
      "execution_count": 3,
      "outputs": []
    }
  ]
}